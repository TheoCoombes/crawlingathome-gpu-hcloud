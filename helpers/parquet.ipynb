{
 "cells": [
  {
   "cell_type": "code",
   "execution_count": 2,
   "source": [
    "import pandas as pd\n",
    "from glob import glob"
   ],
   "outputs": [],
   "metadata": {}
  },
  {
   "cell_type": "code",
   "execution_count": 5,
   "source": [
    "total = 0\n",
    "count = 0\n",
    "for file in glob(\"../parquet/3080.rom1504.fr/cah/cah_dataframe_unique/*.parquet\"):\n",
    "    df = pd.read_parquet(file)\n",
    "    total += len(df.index)\n",
    "    df.dropna(subset=['similarity'], inplace=True)\n",
    "    count += len(df.index)\n",
    "print(count)"
   ],
   "outputs": [
    {
     "output_type": "stream",
     "name": "stdout",
     "text": [
      "63505626\n"
     ]
    }
   ],
   "metadata": {}
  },
  {
   "cell_type": "code",
   "execution_count": 6,
   "source": [
    "print(total)"
   ],
   "outputs": [
    {
     "output_type": "stream",
     "name": "stdout",
     "text": [
      "70153985\n"
     ]
    }
   ],
   "metadata": {}
  },
  {
   "cell_type": "code",
   "execution_count": 8,
   "source": [
    "\n",
    "df = pd.DataFrame\n",
    "i=0\n",
    "for file in glob(\"../parquet/3080.rom1504.fr/cah/cah_dataframe_unique/*.parquet\"):\n",
    "    dfp = pd.read_parquet(file)\n",
    "    dfp = dfp[dfp['similarity'].isna()]\n",
    "    if i == 0:\n",
    "        df = dfp\n",
    "    else:\n",
    "        df = df.append(dfp)\n",
    "    i += 1\n",
    "df.shape"
   ],
   "outputs": [
    {
     "output_type": "execute_result",
     "data": {
      "text/plain": [
       "(6648359, 8)"
      ]
     },
     "metadata": {},
     "execution_count": 8
    }
   ],
   "metadata": {}
  },
  {
   "cell_type": "code",
   "execution_count": 28,
   "source": [
    "df.head()"
   ],
   "outputs": [
    {
     "output_type": "execute_result",
     "data": {
      "text/plain": [
       "    SAMPLE_ID                                                URL  \\\n",
       "2         NaN  http://cdn2.newsok.biz/cache/sq105-9f961ae77a2...   \n",
       "5         NaN  http://images.tastespotting.com/thumbnails/707...   \n",
       "23        NaN  http://cdn.archinect.net/images/195x140/fc/fcl...   \n",
       "44        NaN  http://patentimages.storage.googleapis.com/thu...   \n",
       "62        NaN  http://demandware.edgesuite.net/sits_pod18/dw/...   \n",
       "\n",
       "                                                 TEXT  HEIGHT  WIDTH LICENSE  \\\n",
       "2   Oklahoma City's Russell Westbrook (0) reacts a...     NaN    NaN       ?   \n",
       "5   {recipe} Cucumber Salad with Cilantro Lime Hon...     NaN    NaN       ?   \n",
       "23              Onerahi Bach Project - Design Details     NaN    NaN       ?   \n",
       "44                                     Patent Drawing     NaN    NaN       ?   \n",
       "62                                      Rouge In Love     NaN    NaN       ?   \n",
       "\n",
       "   NSFW  similarity                              hash  \n",
       "2               NaN  d0533b647020bb8b9ea78c309c4b6457  \n",
       "5               NaN  a146a91137119c0bcaa350d94415359f  \n",
       "23              NaN  67344a9e6e9abcf1f01830f21bfc6b89  \n",
       "44              NaN  6488ba8ef23f5756f8b4db231a69db6c  \n",
       "62              NaN  2cbb4495c590cc34327978633a7f8d18  "
      ],
      "text/html": [
       "<div>\n",
       "<style scoped>\n",
       "    .dataframe tbody tr th:only-of-type {\n",
       "        vertical-align: middle;\n",
       "    }\n",
       "\n",
       "    .dataframe tbody tr th {\n",
       "        vertical-align: top;\n",
       "    }\n",
       "\n",
       "    .dataframe thead th {\n",
       "        text-align: right;\n",
       "    }\n",
       "</style>\n",
       "<table border=\"1\" class=\"dataframe\">\n",
       "  <thead>\n",
       "    <tr style=\"text-align: right;\">\n",
       "      <th></th>\n",
       "      <th>SAMPLE_ID</th>\n",
       "      <th>URL</th>\n",
       "      <th>TEXT</th>\n",
       "      <th>HEIGHT</th>\n",
       "      <th>WIDTH</th>\n",
       "      <th>LICENSE</th>\n",
       "      <th>NSFW</th>\n",
       "      <th>similarity</th>\n",
       "      <th>hash</th>\n",
       "    </tr>\n",
       "  </thead>\n",
       "  <tbody>\n",
       "    <tr>\n",
       "      <th>2</th>\n",
       "      <td>NaN</td>\n",
       "      <td>http://cdn2.newsok.biz/cache/sq105-9f961ae77a2...</td>\n",
       "      <td>Oklahoma City's Russell Westbrook (0) reacts a...</td>\n",
       "      <td>NaN</td>\n",
       "      <td>NaN</td>\n",
       "      <td>?</td>\n",
       "      <td></td>\n",
       "      <td>NaN</td>\n",
       "      <td>d0533b647020bb8b9ea78c309c4b6457</td>\n",
       "    </tr>\n",
       "    <tr>\n",
       "      <th>5</th>\n",
       "      <td>NaN</td>\n",
       "      <td>http://images.tastespotting.com/thumbnails/707...</td>\n",
       "      <td>{recipe} Cucumber Salad with Cilantro Lime Hon...</td>\n",
       "      <td>NaN</td>\n",
       "      <td>NaN</td>\n",
       "      <td>?</td>\n",
       "      <td></td>\n",
       "      <td>NaN</td>\n",
       "      <td>a146a91137119c0bcaa350d94415359f</td>\n",
       "    </tr>\n",
       "    <tr>\n",
       "      <th>23</th>\n",
       "      <td>NaN</td>\n",
       "      <td>http://cdn.archinect.net/images/195x140/fc/fcl...</td>\n",
       "      <td>Onerahi Bach Project - Design Details</td>\n",
       "      <td>NaN</td>\n",
       "      <td>NaN</td>\n",
       "      <td>?</td>\n",
       "      <td></td>\n",
       "      <td>NaN</td>\n",
       "      <td>67344a9e6e9abcf1f01830f21bfc6b89</td>\n",
       "    </tr>\n",
       "    <tr>\n",
       "      <th>44</th>\n",
       "      <td>NaN</td>\n",
       "      <td>http://patentimages.storage.googleapis.com/thu...</td>\n",
       "      <td>Patent Drawing</td>\n",
       "      <td>NaN</td>\n",
       "      <td>NaN</td>\n",
       "      <td>?</td>\n",
       "      <td></td>\n",
       "      <td>NaN</td>\n",
       "      <td>6488ba8ef23f5756f8b4db231a69db6c</td>\n",
       "    </tr>\n",
       "    <tr>\n",
       "      <th>62</th>\n",
       "      <td>NaN</td>\n",
       "      <td>http://demandware.edgesuite.net/sits_pod18/dw/...</td>\n",
       "      <td>Rouge In Love</td>\n",
       "      <td>NaN</td>\n",
       "      <td>NaN</td>\n",
       "      <td>?</td>\n",
       "      <td></td>\n",
       "      <td>NaN</td>\n",
       "      <td>2cbb4495c590cc34327978633a7f8d18</td>\n",
       "    </tr>\n",
       "  </tbody>\n",
       "</table>\n",
       "</div>"
      ]
     },
     "metadata": {},
     "execution_count": 28
    }
   ],
   "metadata": {}
  },
  {
   "cell_type": "code",
   "execution_count": 23,
   "source": [
    "df.dropna(subset=['URL','TEXT'], inplace=True)\n",
    "df.shape"
   ],
   "outputs": [
    {
     "output_type": "execute_result",
     "data": {
      "text/plain": [
       "(6633380, 8)"
      ]
     },
     "metadata": {},
     "execution_count": 23
    }
   ],
   "metadata": {}
  },
  {
   "cell_type": "code",
   "execution_count": 27,
   "source": [
    "import hashlib\n",
    "df[\"hash\"] = df.apply(lambda x: hashlib.md5((str(x.URL) + str(x.TEXT)).encode(\"utf-8\")).hexdigest(), axis=1)"
   ],
   "outputs": [],
   "metadata": {}
  },
  {
   "cell_type": "code",
   "execution_count": 29,
   "source": [
    "df.to_csv(\"nansim.csv\",sep=\"|\",index=False)"
   ],
   "outputs": [],
   "metadata": {}
  }
 ],
 "metadata": {
  "orig_nbformat": 4,
  "language_info": {
   "name": "python",
   "version": "3.8.8",
   "mimetype": "text/x-python",
   "codemirror_mode": {
    "name": "ipython",
    "version": 3
   },
   "pygments_lexer": "ipython3",
   "nbconvert_exporter": "python",
   "file_extension": ".py"
  },
  "kernelspec": {
   "name": "python3",
   "display_name": "Python 3.8.8 64-bit ('gpuhcloud': conda)"
  },
  "interpreter": {
   "hash": "bc322c11e8113b1b1dfcd753c5702c5c5d95a81c495f9a7060b170a2a7888bca"
  }
 },
 "nbformat": 4,
 "nbformat_minor": 2
}